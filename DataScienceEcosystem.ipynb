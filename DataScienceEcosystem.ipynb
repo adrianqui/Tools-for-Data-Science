{
 "cells": [
  {
   "cell_type": "markdown",
   "id": "89025fc8-53bd-4017-8fb1-1e4a46e7eab7",
   "metadata": {},
   "source": [
    "# Data Science Tools and Ecosystem"
   ]
  },
  {
   "cell_type": "markdown",
   "id": "b83048eb-228a-435c-8d3e-fe5766a1db4b",
   "metadata": {},
   "source": [
    "In this notebook, Data Science Tools and Ecosystem are summarized."
   ]
  },
  {
   "cell_type": "markdown",
   "id": "860964eb-7ed1-480a-a5f5-8a5d9d4018d7",
   "metadata": {},
   "source": [
    "Some of the popular languages that Data Scientists use are:\n",
    "1. Python \n",
    "2. Julia\n",
    "3. R"
   ]
  },
  {
   "cell_type": "markdown",
   "id": "3d2ef63b-aed5-42da-aba9-27a38f47b454",
   "metadata": {},
   "source": [
    "Some of the commonly used libraries used by Data Scientists include:\n",
    "1. Pandas\n",
    "2. NumPy\n",
    "3. PyTorch"
   ]
  },
  {
   "cell_type": "markdown",
   "id": "c46b98c1-bf8f-4f3a-902d-b22d7515df46",
   "metadata": {},
   "source": [
    "| Data Science Tools |\n",
    "|-------------------|\n",
    "| RStudio |\n",
    "| DataGrip |\n",
    "| Excel |"
   ]
  },
  {
   "cell_type": "markdown",
   "id": "7a87eebe-e671-4f39-806e-71b7b201ad10",
   "metadata": {},
   "source": [
    "### Below are a few examples of evaluating arithmetic expressions in Python"
   ]
  },
  {
   "cell_type": "code",
   "execution_count": 3,
   "id": "97f2d8ae-c677-435b-8535-4a9b881bb098",
   "metadata": {
    "tags": []
   },
   "outputs": [
    {
     "data": {
      "text/plain": [
       "17"
      ]
     },
     "execution_count": 3,
     "metadata": {},
     "output_type": "execute_result"
    }
   ],
   "source": [
    "(3*4)+5\n",
    "# This a simple arithmetic expression to mutiply then add integers"
   ]
  },
  {
   "cell_type": "code",
   "execution_count": 4,
   "id": "c85005b1-025d-436c-b082-7bbd6a3a9cc4",
   "metadata": {
    "tags": []
   },
   "outputs": [
    {
     "data": {
      "text/plain": [
       "3.3333333333333335"
      ]
     },
     "execution_count": 4,
     "metadata": {},
     "output_type": "execute_result"
    }
   ],
   "source": [
    "200/60\n",
    "# This will convert 200 minutes to hours by diving by 60"
   ]
  },
  {
   "cell_type": "markdown",
   "id": "65faa61c-5d27-45bf-bd92-56300759f284",
   "metadata": {},
   "source": [
    "__Objectives:__\n",
    "- Popular Languages\n",
    "- Popular Libraries\n",
    "- Example of arithmetic expressions"
   ]
  },
  {
   "cell_type": "markdown",
   "id": "534e3d25-440f-4b3d-b1bc-37e112ed4792",
   "metadata": {},
   "source": [
    "## Author:\n",
    "Adrian Qui"
   ]
  },
  {
   "cell_type": "code",
   "execution_count": null,
   "id": "467da920-605b-4ad1-86c3-95dd3bd0031c",
   "metadata": {},
   "outputs": [],
   "source": []
  }
 ],
 "metadata": {
  "kernelspec": {
   "display_name": "Python",
   "language": "python",
   "name": "conda-env-python-py"
  },
  "language_info": {
   "codemirror_mode": {
    "name": "ipython",
    "version": 3
   },
   "file_extension": ".py",
   "mimetype": "text/x-python",
   "name": "python",
   "nbconvert_exporter": "python",
   "pygments_lexer": "ipython3",
   "version": "3.7.12"
  }
 },
 "nbformat": 4,
 "nbformat_minor": 5
}
